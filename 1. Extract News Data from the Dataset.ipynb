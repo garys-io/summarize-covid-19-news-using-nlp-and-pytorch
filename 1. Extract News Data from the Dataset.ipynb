{
 "cells": [
  {
   "cell_type": "code",
   "execution_count": 1,
   "id": "6268edd7",
   "metadata": {},
   "outputs": [],
   "source": [
    "# Run these on the first run\n",
    "# import nltk\n",
    "# nltk.download()"
   ]
  },
  {
   "cell_type": "code",
   "execution_count": 2,
   "id": "10685e8a",
   "metadata": {},
   "outputs": [],
   "source": [
    "import pandas as pd\n",
    "import numpy as np\n",
    "import json\n",
    "import os, glob\n",
    "\n",
    "from __future__ import unicode_literals, print_function, division\n",
    "from io import open\n",
    "import unicodedata\n",
    "import string\n",
    "import re\n",
    "import random\n",
    "\n",
    "import torch\n",
    "import torch.nn as nn\n",
    "from torch import optim\n",
    "import torch.nn.functional as F\n",
    "from pprint import pprint as p\n",
    "\n",
    "import re\n",
    "from nltk.corpus import stopwords\n",
    "\n",
    "import matplotlib.pyplot as plt\n",
    "\n",
    "%matplotlib inline\n",
    "\n",
    "stop_words = stopwords.words('english')\n",
    "\n",
    "device = torch.device(\"cuda\" if torch.cuda.is_available() else \"cpu\")"
   ]
  },
  {
   "cell_type": "code",
   "execution_count": 3,
   "id": "83bfa42b",
   "metadata": {},
   "outputs": [
    {
     "name": "stdout",
     "output_type": "stream",
     "text": [
      "['16119_db21c91a1ab47385bb13773ed8238c31/16119_webhose_2019_12_db21c91a1ab47385bb13773ed8238c31_0000001.json',\n",
      " '16119_db21c91a1ab47385bb13773ed8238c31/16119_webhose_2020_01_db21c91a1ab47385bb13773ed8238c31_0000001.json']\n"
     ]
    }
   ],
   "source": [
    "data_dir = '16119_db21c91a1ab47385bb13773ed8238c31'\n",
    "# os.listdir(data_dir)\n",
    "files = [f'{data_dir}/{file}' for file in [\n",
    "                '16119_webhose_2019_12_db21c91a1ab47385bb13773ed8238c31_0000001.json',\n",
    "                '16119_webhose_2020_01_db21c91a1ab47385bb13773ed8238c31_0000001.json'\n",
    "            ]\n",
    "        ]\n",
    "p(files)"
   ]
  },
  {
   "cell_type": "code",
   "execution_count": 4,
   "id": "67e743e5",
   "metadata": {},
   "outputs": [
    {
     "data": {
      "text/plain": [
       "(94403, 94403)"
      ]
     },
     "execution_count": 4,
     "metadata": {},
     "output_type": "execute_result"
    }
   ],
   "source": [
    "target = []\n",
    "dataset = []\n",
    "\n",
    "for file_loc in files:\n",
    "    raw_file = open(file_loc)\n",
    "\n",
    "    for f in raw_file:\n",
    "        raw_obj = json.loads(f)\n",
    "        target.append(raw_obj['title'])\n",
    "        dataset.append(raw_obj['text'])\n",
    "    raw_file.close()\n",
    "\n",
    "len(target), len(dataset)"
   ]
  },
  {
   "cell_type": "code",
   "execution_count": 5,
   "id": "966cbd0d",
   "metadata": {},
   "outputs": [],
   "source": [
    "# p(target)\n",
    "# p(dataset)"
   ]
  },
  {
   "cell_type": "code",
   "execution_count": 6,
   "id": "393b4202",
   "metadata": {},
   "outputs": [],
   "source": [
    "contraction_map = {\"ain't\": \"is not\", \"aren't\": \"are not\",\"can't\": \"cannot\", \"'cause\": \"because\", \"could've\": \"could have\", \"couldn't\": \"could not\",\n",
    "\n",
    "                           \"didn't\": \"did not\", \"doesn't\": \"does not\", \"don't\": \"do not\", \"hadn't\": \"had not\", \"hasn't\": \"has not\", \"haven't\": \"have not\",\n",
    "\n",
    "                           \"he'd\": \"he would\",\"he'll\": \"he will\", \"he's\": \"he is\", \"how'd\": \"how did\", \"how'd'y\": \"how do you\", \"how'll\": \"how will\", \"how's\": \"how is\",\n",
    "\n",
    "                           \"I'd\": \"I would\", \"I'd've\": \"I would have\", \"I'll\": \"I will\", \"I'll've\": \"I will have\",\"I'm\": \"I am\", \"I've\": \"I have\", \"i'd\": \"i would\",\n",
    "\n",
    "                           \"i'd've\": \"i would have\", \"i'll\": \"i will\",  \"i'll've\": \"i will have\",\"i'm\": \"i am\", \"i've\": \"i have\", \"isn't\": \"is not\", \"it'd\": \"it would\",\n",
    "\n",
    "                           \"it'd've\": \"it would have\", \"it'll\": \"it will\", \"it'll've\": \"it will have\",\"it's\": \"it is\", \"let's\": \"let us\", \"ma'am\": \"madam\",\n",
    "\n",
    "                           \"mayn't\": \"may not\", \"might've\": \"might have\",\"mightn't\": \"might not\",\"mightn't've\": \"might not have\", \"must've\": \"must have\",\n",
    "\n",
    "                           \"mustn't\": \"must not\", \"mustn't've\": \"must not have\", \"needn't\": \"need not\", \"needn't've\": \"need not have\",\"o'clock\": \"of the clock\",\n",
    "\n",
    "                           \"oughtn't\": \"ought not\", \"oughtn't've\": \"ought not have\", \"shan't\": \"shall not\", \"sha'n't\": \"shall not\", \"shan't've\": \"shall not have\",\n",
    "\n",
    "                           \"she'd\": \"she would\", \"she'd've\": \"she would have\", \"she'll\": \"she will\", \"she'll've\": \"she will have\", \"she's\": \"she is\",\n",
    "\n",
    "                           \"should've\": \"should have\", \"shouldn't\": \"should not\", \"shouldn't've\": \"should not have\", \"so've\": \"so have\",\"so's\": \"so as\",\n",
    "\n",
    "                           \"this's\": \"this is\",\"that'd\": \"that would\", \"that'd've\": \"that would have\", \"that's\": \"that is\", \"there'd\": \"there would\",\n",
    "\n",
    "                           \"there'd've\": \"there would have\", \"there's\": \"there is\", \"here's\": \"here is\",\"they'd\": \"they would\", \"they'd've\": \"they would have\",\n",
    "\n",
    "                           \"they'll\": \"they will\", \"they'll've\": \"they will have\", \"they're\": \"they are\", \"they've\": \"they have\", \"to've\": \"to have\",\n",
    "\n",
    "                           \"wasn't\": \"was not\", \"we'd\": \"we would\", \"we'd've\": \"we would have\", \"we'll\": \"we will\", \"we'll've\": \"we will have\", \"we're\": \"we are\",\n",
    "\n",
    "                           \"we've\": \"we have\", \"weren't\": \"were not\", \"what'll\": \"what will\", \"what'll've\": \"what will have\", \"what're\": \"what are\",\n",
    "\n",
    "                           \"what's\": \"what is\", \"what've\": \"what have\", \"when's\": \"when is\", \"when've\": \"when have\", \"where'd\": \"where did\", \"where's\": \"where is\",\n",
    "\n",
    "                           \"where've\": \"where have\", \"who'll\": \"who will\", \"who'll've\": \"who will have\", \"who's\": \"who is\", \"who've\": \"who have\",\n",
    "\n",
    "                           \"why's\": \"why is\", \"why've\": \"why have\", \"will've\": \"will have\", \"won't\": \"will not\", \"won't've\": \"will not have\",\n",
    "\n",
    "                           \"would've\": \"would have\", \"wouldn't\": \"would not\", \"wouldn't've\": \"would not have\", \"y'all\": \"you all\",\n",
    "\n",
    "                           \"y'all'd\": \"you all would\",\"y'all'd've\": \"you all would have\",\"y'all're\": \"you all are\",\"y'all've\": \"you all have\",\n",
    "\n",
    "                           \"you'd\": \"you would\", \"you'd've\": \"you would have\", \"you'll\": \"you will\", \"you'll've\": \"you will have\",\n",
    "\n",
    "                           \"you're\": \"you are\", \"you've\": \"you have\"}"
   ]
  },
  {
   "cell_type": "code",
   "execution_count": 7,
   "id": "e2045656",
   "metadata": {},
   "outputs": [],
   "source": [
    "def preprocess(text):\n",
    "    text = text.lower() # lowercase\n",
    "    text = text.split() # convert have'nt -> have not\n",
    "\n",
    "    for i in range(len(text)):\n",
    "        word = text[i]\n",
    "        if word in contraction_map:\n",
    "            text[i] = contraction_map[word]\n",
    "    text = \" \".join(text)\n",
    "    text = text.split()\n",
    "    newtext = []\n",
    "    for word in text:\n",
    "        if word not in stop_words:\n",
    "            newtext.append(word)\n",
    "    text = \" \".join(newtext)\n",
    "    text = text.replace(\"'s\",'') # convert your's -> your\n",
    "    text = re.sub(r'\\(.*\\)','',text) # remove (words)\n",
    "    text = re.sub(r'[^a-zA-Z0-9. ]','',text) # remove punctuations\n",
    "    text = re.sub(r'\\.',' . ',text)\n",
    "    return text"
   ]
  },
  {
   "cell_type": "code",
   "execution_count": 8,
   "id": "7cea19c0",
   "metadata": {},
   "outputs": [
    {
     "data": {
      "text/plain": [
       "('Global Swine Healthcare Market by Products, Diseases & Geography – Forecast to 2024',\n",
       " 'global swine healthcare market products diseases  geography  forecast 2024')"
      ]
     },
     "execution_count": 8,
     "metadata": {},
     "output_type": "execute_result"
    }
   ],
   "source": [
    "target[0], preprocess(target[0])"
   ]
  },
  {
   "cell_type": "code",
   "execution_count": 9,
   "id": "b129eba1",
   "metadata": {},
   "outputs": [
    {
     "data": {
      "text/plain": [
       "('Dublin, The “Swine Healthcare Market – Growth, Trends, and Forecast (2019 – 2024)” report has been added to ResearchAndMarkets.com’s offering.\\nThe global swine health market is expected to register a healthy CAGR during the forecast period, owing to the increasing incidence of swine diseases.\\nChina Ministry of Agriculture and Rural Affairs (MARA) confirmed its first African swine fever (ASF) outbreak in Liaoning Province in 2018, 145 ASF outbreaks detected in 32 Provinces/Autonomous Regions/Municipalities/Special Administrative Region. More than 1,160,000 pigs have been rising investments in R&D activities in the development of novel therapeutics, a growing number of governments initiatives for the prevention of zoonotic diseases, increasing demand for livestock products is expected to propel the global swine health market. culled in an effort to halt the further spread. Additionally, the growing consumption of pork globally.\\nKey Market Trends\\nVaccines are Expected to Lead the Market\\nVaccines are comprised of viruses, bacteria or other disease-causing organisms that have been killed or altered. Hence, they cannot cause any disease and boost up immunity. New advanced vaccines have been manufactured, which contains genetically engineered components derived from those disease agents. They are given to pigs, usually by injection, to stimulate an immune response which will protect the pigs against later natural infection with the organism from which the vaccine was derived.\\nMost of the vaccines stimulate both a humoral response and a cell-mediated response. Vaccines can be live, containing living organisms which will multiply in the pig, or inactivated, containing only killed organisms which will not multiply in the pig. As there is a need for novel vaccines against all the disease-causing pathogens, there is a rapid increase in the R&D expenditure, which drives the vaccine segment to expand its reach to a broad spectrum of diseases.\\nNorth America is Expected to Dominate over the Forecast Period\\nNorth America is expected to dominate the market due to the rising incidence of swine infections, such as Swine Enteric Coronavirus Diseases (SECD), porcine epidemic diarrhea (PEDv), porcine delta coronavirus (PDCoV), which has caused significant morbidity and mortality, particularly in young piglets.\\nThe virus is endemic in swine populations in North America. In the United States, the Swine Health Protection Act (SHPA) regulates the meat products fed to swine. Compliance with this act ensures that all food waste fed to swine is properly treated to kill disease organisms. Raw meat may transmit numerous infectious or communicable diseases to swine. Over the forecast period, with the rise in the incidence of swine, the US is expected to be a major revenue-generating region for the swine health market.\\nCompetitive Landscape\\nThe market players in the swine health market are involving in various growth strategies such as collaborations, partnerships, agreements, mergers, and acquisitions in order to enhance the market presence. For instance, in 2018 Elanco Animal Health, introduced Prevacent PRRS a modified-live respiratory vaccine for reduction of porcine reproductive and respiratory syndrome (PRRS), respiratory form, in piglets two weeks or older. In May 2019, MSD Animal Health has launched its Porcilis Ery+Parvo+Lepto combination vaccine for pigs.\\nKey Topics Covered\\n1 INTRODUCTION\\n1.1 Study Deliverables\\n1.2 Study Assumptions\\n1.3 Scope of the Study\\n2 RESEARCH METHODOLOGY\\n3 EXECUTIVE SUMMARY\\n4 MARKET DYNAMICS\\n4.1 Market Overview\\n4.2 Market Drivers\\n4.2.1 Increasing Incidence of Swine Diseases\\n4.2.2 Increasing Demand for Livestock Products\\n4.2.3 Increasing Investments in R&D Activities to Develop Novel Therapeutics\\n4.3 Market Restraints\\n4.3.1 Regulatory Challenges\\n4.3.2 High Cost Associated With Swine Health Especially in the Developing Countries\\n4.4 Porter’s Five Force Analysis\\n4.4.1 Threat of New Entrants\\n4.4.2 Bargaining Power of Buyers/Consumers\\n4.4.3 Bargaining Power of Suppliers\\n4.4.4 Threat of Substitute Products\\n4.4.5 Intensity of Competitive Rivalry\\n5 MARKET SEGMENTATION\\n5.1 By Products\\n5.1.1 Diagnostic Tests\\n5.1.1.1 Enzyme Linked Immuno-Sorbent Assay (ELISA)\\n5.1.1.2 Rapid Immuno Migration (RIM)\\n5.1.1.3 Agar Gel Immuno-Diffusion (AGID)\\n5.1.1.4 Polymerase Chain Reaction (PCR)\\n5.1.1.5 Diagnostic Imaging\\n5.1.2 Therapeutics\\n5.1.2.1 Vaccines\\n5.1.2.2 Parasiticide\\n5.1.2.3 Anti-infective\\n5.1.2.4 Feed additives\\n5.1.2.5 Antibiotics\\n5.1.2.6 Others\\n5.2 By Diseases\\n5.2.1 Exudative dermatitis (greasy pig disease)\\n5.2.2 Coccidiosis\\n5.2.3 Respiratory diseases\\n5.2.4 Swine dysentery\\n5.2.5 Porcine parvovirus\\n5.2.6 Others\\n5.3 Geography\\n5.3.1 North America\\n5.3.2 Europe\\n5.3.3 Asia-Pacific\\n5.3.4 Middle East & Africa\\n5.3.5 South America\\n6 COMPETITIVE LANDSCAPE\\n6.1 Company Profiles\\n6.1.1 Abaxis\\n6.1.2 Bayer Animal Health\\n6.1.3 Boehringer Ingelheim\\n6.1.4 Ceva Animal Health Inc.\\n6.1.5 Elanco\\n6.1.6 IDVet\\n6.1.7 Merck Animal Health\\n6.1.8 Merial\\n6.1.9 Vetoquinol S.A.\\n6.1.10 Virbac\\n6.1.11 Zoetis Animal Healthcare\\n7 MARKET OPPORTUNITIES AND FUTURE TRENDS\\nFor more information about this report visit https://www.researchandmarkets.com/r/shhuje\\nResearch and Markets also offers Custom Research services providing focused, comprehensive and tailored research.\\nCONTACT: ResearchAndMarkets.com Laura Wood, Senior Press Manager press@researchandmarkets.com For E.S.T Office Hours Call 1-917-300-0470 For U.S./CAN Toll Free Call 1-800-526-8630 For GMT Office Hours Call +353-1-416-8900\\n ',\n",
       " 'dublin swine healthcare market  growth trends forecast  5 . 2 . 2 coccidiosis 5 . 2 . 3 respiratory diseases 5 . 2 . 4 swine dysentery 5 . 2 . 5 porcine parvovirus 5 . 2 . 6 others 5 . 3 geography 5 . 3 . 1 north america 5 . 3 . 2 europe 5 . 3 . 3 asiapacific 5 . 3 . 4 middle east  africa 5 . 3 . 5 south america 6 competitive landscape 6 . 1 company profiles 6 . 1 . 1 abaxis 6 . 1 . 2 bayer animal health 6 . 1 . 3 boehringer ingelheim 6 . 1 . 4 ceva animal health inc .  6 . 1 . 5 elanco 6 . 1 . 6 idvet 6 . 1 . 7 merck animal health 6 . 1 . 8 merial 6 . 1 . 9 vetoquinol s . a .  6 . 1 . 10 virbac 6 . 1 . 11 zoetis animal healthcare 7 market opportunities future trends information report visit httpswww . researchandmarkets . comrshhuje research markets also offers custom research services providing focused comprehensive tailored research .  contact researchandmarkets . com laura wood senior press manager pressresearchandmarkets . com e . s . t office hours call 19173000470 u . s . can toll free call 18005268630 gmt office hours call 35314168900')"
      ]
     },
     "execution_count": 9,
     "metadata": {},
     "output_type": "execute_result"
    }
   ],
   "source": [
    "dataset[0], preprocess(dataset[0])"
   ]
  },
  {
   "cell_type": "code",
   "execution_count": 10,
   "id": "d4638c35",
   "metadata": {},
   "outputs": [
    {
     "data": {
      "text/plain": [
       "'dublin swine healthcare market  growth trends forecast  5 . 2 . 2 coccidiosis 5 . 2 . 3 respiratory diseases 5 . 2 . 4 swine dysentery 5 . 2 . 5 porcine parvovirus 5 . 2 . 6 others 5 . 3 geography 5 . 3 . 1 north america 5 . 3 . 2 europe 5 . 3 . 3 asiapacific 5 . 3 . 4 middle east  africa 5 . 3 . 5 south america 6 competitive landscape 6 . 1 company profiles 6 . 1 . 1 abaxis 6 . 1 . 2 bayer animal health 6 . 1 . 3 boehringer ingelheim 6 . 1 . 4 ceva animal health inc .  6 . 1 . 5 elanco 6 . 1 . 6 idvet 6 . 1 . 7 merck animal health 6 . 1 . 8 merial 6 . 1 . 9 vetoquinol s . a .  6 . 1 . 10 virbac 6 . 1 . 11 zoetis animal healthcare 7 market opportunities future trends information report visit httpswww . researchandmarkets . comrshhuje research markets also offers custom research services providing focused comprehensive tailored research .  contact researchandmarkets . com laura wood senior press manager pressresearchandmarkets . com e . s . t office hours call 19173000470 u . s . can toll free call 18005268630 gmt office hours call 35314168900'"
      ]
     },
     "execution_count": 10,
     "metadata": {},
     "output_type": "execute_result"
    }
   ],
   "source": [
    "X = [preprocess(d) for d in dataset]\n",
    "X[0]"
   ]
  },
  {
   "cell_type": "code",
   "execution_count": 11,
   "id": "d5906c21",
   "metadata": {},
   "outputs": [
    {
     "data": {
      "text/plain": [
       "'global swine healthcare market products diseases  geography  forecast 2024'"
      ]
     },
     "execution_count": 11,
     "metadata": {},
     "output_type": "execute_result"
    }
   ],
   "source": [
    "Y = [preprocess(t) for t in target]\n",
    "Y[0]"
   ]
  },
  {
   "cell_type": "code",
   "execution_count": 12,
   "id": "17baa982",
   "metadata": {},
   "outputs": [
    {
     "data": {
      "text/plain": [
       "(94403, 94403)"
      ]
     },
     "execution_count": 12,
     "metadata": {},
     "output_type": "execute_result"
    }
   ],
   "source": [
    "len(X), len(Y)"
   ]
  },
  {
   "cell_type": "code",
   "execution_count": 13,
   "id": "06520389",
   "metadata": {},
   "outputs": [
    {
     "data": {
      "text/plain": [
       "(array([2.2938e+04, 1.7505e+04, 1.5652e+04, 1.1503e+04, 8.5890e+03,\n",
       "        5.4710e+03, 4.0500e+03, 2.8580e+03, 1.9940e+03, 1.3700e+03,\n",
       "        8.8100e+02, 5.3800e+02, 2.9500e+02, 1.9600e+02, 1.4000e+02,\n",
       "        9.0000e+01, 6.3000e+01, 3.8000e+01, 2.6000e+01, 6.3000e+01,\n",
       "        1.9000e+01, 2.4000e+01, 1.3000e+01, 5.0000e+00, 5.0000e+00,\n",
       "        8.0000e+00, 4.0000e+00, 5.0000e+00, 3.0000e+00, 1.0000e+00,\n",
       "        3.0000e+00, 3.0000e+00, 2.0000e+00, 6.0000e+00, 1.0000e+00,\n",
       "        2.0000e+00, 2.0000e+00, 1.0000e+00, 0.0000e+00, 3.0000e+00,\n",
       "        1.0000e+00, 2.0000e+00, 3.0000e+00, 0.0000e+00, 1.0000e+00,\n",
       "        0.0000e+00, 0.0000e+00, 2.0000e+00, 0.0000e+00, 0.0000e+00,\n",
       "        2.0000e+00, 0.0000e+00, 0.0000e+00, 0.0000e+00, 0.0000e+00,\n",
       "        1.0000e+00, 0.0000e+00, 0.0000e+00, 1.0000e+00, 0.0000e+00,\n",
       "        0.0000e+00, 1.0000e+00, 0.0000e+00, 0.0000e+00, 0.0000e+00,\n",
       "        0.0000e+00, 0.0000e+00, 2.0000e+00, 0.0000e+00, 1.0000e+00,\n",
       "        0.0000e+00, 0.0000e+00, 1.0000e+00, 1.0000e+00, 0.0000e+00,\n",
       "        1.0000e+00, 0.0000e+00, 3.0000e+00, 0.0000e+00, 1.0000e+00,\n",
       "        2.0000e+00, 0.0000e+00, 0.0000e+00, 0.0000e+00, 0.0000e+00,\n",
       "        0.0000e+00, 0.0000e+00, 2.0000e+00, 0.0000e+00, 0.0000e+00,\n",
       "        0.0000e+00, 1.0000e+00, 0.0000e+00, 0.0000e+00, 2.0000e+00,\n",
       "        0.0000e+00, 1.0000e+00, 0.0000e+00, 0.0000e+00, 1.0000e+00]),\n",
       " array([   0.  ,   78.49,  156.98,  235.47,  313.96,  392.45,  470.94,\n",
       "         549.43,  627.92,  706.41,  784.9 ,  863.39,  941.88, 1020.37,\n",
       "        1098.86, 1177.35, 1255.84, 1334.33, 1412.82, 1491.31, 1569.8 ,\n",
       "        1648.29, 1726.78, 1805.27, 1883.76, 1962.25, 2040.74, 2119.23,\n",
       "        2197.72, 2276.21, 2354.7 , 2433.19, 2511.68, 2590.17, 2668.66,\n",
       "        2747.15, 2825.64, 2904.13, 2982.62, 3061.11, 3139.6 , 3218.09,\n",
       "        3296.58, 3375.07, 3453.56, 3532.05, 3610.54, 3689.03, 3767.52,\n",
       "        3846.01, 3924.5 , 4002.99, 4081.48, 4159.97, 4238.46, 4316.95,\n",
       "        4395.44, 4473.93, 4552.42, 4630.91, 4709.4 , 4787.89, 4866.38,\n",
       "        4944.87, 5023.36, 5101.85, 5180.34, 5258.83, 5337.32, 5415.81,\n",
       "        5494.3 , 5572.79, 5651.28, 5729.77, 5808.26, 5886.75, 5965.24,\n",
       "        6043.73, 6122.22, 6200.71, 6279.2 , 6357.69, 6436.18, 6514.67,\n",
       "        6593.16, 6671.65, 6750.14, 6828.63, 6907.12, 6985.61, 7064.1 ,\n",
       "        7142.59, 7221.08, 7299.57, 7378.06, 7456.55, 7535.04, 7613.53,\n",
       "        7692.02, 7770.51, 7849.  ]),\n",
       " <BarContainer object of 100 artists>)"
      ]
     },
     "execution_count": 13,
     "metadata": {},
     "output_type": "execute_result"
    },
    {
     "data": {
      "image/png": "[encoded data removed]",
      "text/plain": [
       "<Figure size 432x288 with 1 Axes>"
      ]
     },
     "metadata": {
      "needs_background": "light"
     },
     "output_type": "display_data"
    }
   ],
   "source": [
    "plt.hist([len(x.split()) for x in X], bins=100)"
   ]
  },
  {
   "cell_type": "code",
   "execution_count": 14,
   "id": "3508a062",
   "metadata": {},
   "outputs": [
    {
     "data": {
      "text/plain": [
       "(array([4.893e+03, 5.169e+03, 4.494e+03, 3.729e+03, 3.626e+03, 3.749e+03,\n",
       "        3.526e+03, 3.271e+03, 3.238e+03, 3.226e+03, 3.283e+03, 3.088e+03,\n",
       "        3.096e+03, 2.896e+03, 2.843e+03, 2.648e+03, 2.501e+03, 2.222e+03,\n",
       "        2.131e+03, 2.017e+03, 2.069e+03, 1.843e+03, 1.616e+03, 1.667e+03,\n",
       "        1.639e+03, 1.456e+03, 1.204e+03, 1.115e+03, 1.175e+03, 1.020e+03,\n",
       "        8.640e+02, 9.930e+02, 8.530e+02, 7.300e+02, 6.950e+02, 6.330e+02,\n",
       "        6.900e+02, 5.890e+02, 5.500e+02, 5.960e+02, 5.490e+02, 4.200e+02,\n",
       "        3.940e+02, 3.790e+02, 3.850e+02, 3.890e+02, 3.660e+02, 3.040e+02,\n",
       "        2.510e+02, 2.740e+02, 2.940e+02, 2.090e+02, 1.570e+02, 1.850e+02,\n",
       "        1.680e+02, 1.560e+02, 1.870e+02, 1.350e+02, 1.390e+02, 1.330e+02,\n",
       "        7.400e+01, 1.010e+02, 6.800e+01, 7.100e+01, 7.500e+01, 4.900e+01,\n",
       "        3.700e+01, 4.800e+01, 3.900e+01, 4.900e+01, 4.400e+01, 3.300e+01,\n",
       "        2.300e+01, 2.800e+01, 4.000e+01, 2.100e+01, 2.000e+01, 3.700e+01,\n",
       "        2.600e+01, 1.900e+01, 1.900e+01, 1.500e+01, 1.000e+01, 8.000e+00,\n",
       "        1.000e+01, 5.000e+00, 1.000e+01, 3.100e+01, 5.000e+00, 4.000e+00,\n",
       "        7.000e+00, 1.000e+01, 1.000e+01, 7.000e+00, 6.000e+00, 3.000e+00,\n",
       "        7.000e+00, 6.000e+00, 4.000e+00, 2.000e+00]),\n",
       " array([   0.  ,   14.98,   29.96,   44.94,   59.92,   74.9 ,   89.88,\n",
       "         104.86,  119.84,  134.82,  149.8 ,  164.78,  179.76,  194.74,\n",
       "         209.72,  224.7 ,  239.68,  254.66,  269.64,  284.62,  299.6 ,\n",
       "         314.58,  329.56,  344.54,  359.52,  374.5 ,  389.48,  404.46,\n",
       "         419.44,  434.42,  449.4 ,  464.38,  479.36,  494.34,  509.32,\n",
       "         524.3 ,  539.28,  554.26,  569.24,  584.22,  599.2 ,  614.18,\n",
       "         629.16,  644.14,  659.12,  674.1 ,  689.08,  704.06,  719.04,\n",
       "         734.02,  749.  ,  763.98,  778.96,  793.94,  808.92,  823.9 ,\n",
       "         838.88,  853.86,  868.84,  883.82,  898.8 ,  913.78,  928.76,\n",
       "         943.74,  958.72,  973.7 ,  988.68, 1003.66, 1018.64, 1033.62,\n",
       "        1048.6 , 1063.58, 1078.56, 1093.54, 1108.52, 1123.5 , 1138.48,\n",
       "        1153.46, 1168.44, 1183.42, 1198.4 , 1213.38, 1228.36, 1243.34,\n",
       "        1258.32, 1273.3 , 1288.28, 1303.26, 1318.24, 1333.22, 1348.2 ,\n",
       "        1363.18, 1378.16, 1393.14, 1408.12, 1423.1 , 1438.08, 1453.06,\n",
       "        1468.04, 1483.02, 1498.  ]),\n",
       " <BarContainer object of 100 artists>)"
      ]
     },
     "execution_count": 14,
     "metadata": {},
     "output_type": "execute_result"
    },
    {
     "data": {
      "image/png": "[encoded data removed]",
      "text/plain": [
       "<Figure size 432x288 with 1 Axes>"
      ]
     },
     "metadata": {
      "needs_background": "light"
     },
     "output_type": "display_data"
    }
   ],
   "source": [
    "plt.hist([len(x.split()) for x in X if len(x.split()) < 1500], bins=100)"
   ]
  },
  {
   "cell_type": "code",
   "execution_count": 15,
   "id": "4c6668ed",
   "metadata": {},
   "outputs": [
    {
     "data": {
      "text/plain": [
       "(array([2.3440e+03, 1.2300e+02, 7.5400e+02, 1.2260e+03, 3.4320e+03,\n",
       "        7.0640e+03, 1.0769e+04, 1.5015e+04, 1.4989e+04, 1.2641e+04,\n",
       "        8.9710e+03, 6.3110e+03, 4.0900e+03, 2.6300e+03, 1.6470e+03,\n",
       "        9.6300e+02, 5.2600e+02, 3.5700e+02, 2.0100e+02, 1.1900e+02,\n",
       "        7.0000e+01, 4.8000e+01, 2.5000e+01, 1.9000e+01, 1.4000e+01,\n",
       "        1.5000e+01, 1.3000e+01, 3.0000e+00, 6.0000e+00, 2.0000e+00]),\n",
       " array([ 0.        ,  0.96666667,  1.93333333,  2.9       ,  3.86666667,\n",
       "         4.83333333,  5.8       ,  6.76666667,  7.73333333,  8.7       ,\n",
       "         9.66666667, 10.63333333, 11.6       , 12.56666667, 13.53333333,\n",
       "        14.5       , 15.46666667, 16.43333333, 17.4       , 18.36666667,\n",
       "        19.33333333, 20.3       , 21.26666667, 22.23333333, 23.2       ,\n",
       "        24.16666667, 25.13333333, 26.1       , 27.06666667, 28.03333333,\n",
       "        29.        ]),\n",
       " <BarContainer object of 30 artists>)"
      ]
     },
     "execution_count": 15,
     "metadata": {},
     "output_type": "execute_result"
    },
    {
     "data": {
      "image/png": "[encoded data removed]",
      "text/plain": [
       "<Figure size 432x288 with 1 Axes>"
      ]
     },
     "metadata": {
      "needs_background": "light"
     },
     "output_type": "display_data"
    }
   ],
   "source": [
    "plt.hist([len(x.split()) for x in Y if len(x.split()) < 30], bins=30)"
   ]
  },
  {
   "cell_type": "code",
   "execution_count": 16,
   "id": "0bce3024",
   "metadata": {},
   "outputs": [
    {
     "data": {
      "text/html": [
       "<div>\n",
       "<style scoped>\n",
       "    .dataframe tbody tr th:only-of-type {\n",
       "        vertical-align: middle;\n",
       "    }\n",
       "\n",
       "    .dataframe tbody tr th {\n",
       "        vertical-align: top;\n",
       "    }\n",
       "\n",
       "    .dataframe thead th {\n",
       "        text-align: right;\n",
       "    }\n",
       "</style>\n",
       "<table border=\"1\" class=\"dataframe\">\n",
       "  <thead>\n",
       "    <tr style=\"text-align: right;\">\n",
       "      <th></th>\n",
       "      <th>text</th>\n",
       "      <th>summary</th>\n",
       "    </tr>\n",
       "  </thead>\n",
       "  <tbody>\n",
       "    <tr>\n",
       "      <th>0</th>\n",
       "      <td>FDA launches app for health care professionals...</td>\n",
       "      <td>FDA launches app for health care professionals...</td>\n",
       "    </tr>\n",
       "    <tr>\n",
       "      <th>1</th>\n",
       "      <td>Of all of Regina Yan ’s many traits, an open m...</td>\n",
       "      <td>C-Suite Awards: Regina Yan</td>\n",
       "    </tr>\n",
       "    <tr>\n",
       "      <th>2</th>\n",
       "      <td>The CURE ID app allows clinicians to share and...</td>\n",
       "      <td>FDA Launches Infectious Disease Crowdsourcing ...</td>\n",
       "    </tr>\n",
       "    <tr>\n",
       "      <th>3</th>\n",
       "      <td>The DSB is composed of representatives from tw...</td>\n",
       "      <td>Drug Safety Oversight Board</td>\n",
       "    </tr>\n",
       "    <tr>\n",
       "      <th>4</th>\n",
       "      <td>The Centre for Health Protection (CHP) of the ...</td>\n",
       "      <td>Suspected MERS case reported</td>\n",
       "    </tr>\n",
       "  </tbody>\n",
       "</table>\n",
       "</div>"
      ],
      "text/plain": [
       "                                                text  \\\n",
       "0  FDA launches app for health care professionals...   \n",
       "1  Of all of Regina Yan ’s many traits, an open m...   \n",
       "2  The CURE ID app allows clinicians to share and...   \n",
       "3  The DSB is composed of representatives from tw...   \n",
       "4  The Centre for Health Protection (CHP) of the ...   \n",
       "\n",
       "                                             summary  \n",
       "0  FDA launches app for health care professionals...  \n",
       "1                         C-Suite Awards: Regina Yan  \n",
       "2  FDA Launches Infectious Disease Crowdsourcing ...  \n",
       "3                        Drug Safety Oversight Board  \n",
       "4                       Suspected MERS case reported  "
      ]
     },
     "execution_count": 16,
     "metadata": {},
     "output_type": "execute_result"
    }
   ],
   "source": [
    "max_len_target = 30\n",
    "max_len_text = 600\n",
    "\n",
    "short_text = []\n",
    "short_summary = []\n",
    "\n",
    "for i in range(len(dataset)):\n",
    "    if(len(target[i].split()) <= max_len_target and len(dataset[i].split()) <= max_len_text):\n",
    "        short_text.append(dataset[i])\n",
    "        short_summary.append(target[i])\n",
    "\n",
    "temp_df = pd.DataFrame({'text': short_text, 'summary': short_summary})\n",
    "temp_df.head()"
   ]
  },
  {
   "cell_type": "code",
   "execution_count": 17,
   "id": "8f061cee",
   "metadata": {},
   "outputs": [
    {
     "data": {
      "text/html": [
       "<div>\n",
       "<style scoped>\n",
       "    .dataframe tbody tr th:only-of-type {\n",
       "        vertical-align: middle;\n",
       "    }\n",
       "\n",
       "    .dataframe tbody tr th {\n",
       "        vertical-align: top;\n",
       "    }\n",
       "\n",
       "    .dataframe thead th {\n",
       "        text-align: right;\n",
       "    }\n",
       "</style>\n",
       "<table border=\"1\" class=\"dataframe\">\n",
       "  <thead>\n",
       "    <tr style=\"text-align: right;\">\n",
       "      <th></th>\n",
       "      <th>text</th>\n",
       "      <th>summary</th>\n",
       "    </tr>\n",
       "  </thead>\n",
       "  <tbody>\n",
       "    <tr>\n",
       "      <th>0</th>\n",
       "      <td>FDA launches app for health care professionals...</td>\n",
       "      <td>FDA launches app for health care professionals...</td>\n",
       "    </tr>\n",
       "    <tr>\n",
       "      <th>1</th>\n",
       "      <td>Of all of Regina Yan ’s many traits, an open m...</td>\n",
       "      <td>C-Suite Awards: Regina Yan</td>\n",
       "    </tr>\n",
       "    <tr>\n",
       "      <th>2</th>\n",
       "      <td>The CURE ID app allows clinicians to share and...</td>\n",
       "      <td>FDA Launches Infectious Disease Crowdsourcing ...</td>\n",
       "    </tr>\n",
       "    <tr>\n",
       "      <th>3</th>\n",
       "      <td>The DSB is composed of representatives from tw...</td>\n",
       "      <td>Drug Safety Oversight Board</td>\n",
       "    </tr>\n",
       "    <tr>\n",
       "      <th>4</th>\n",
       "      <td>The Centre for Health Protection (CHP) of the ...</td>\n",
       "      <td>Suspected MERS case reported</td>\n",
       "    </tr>\n",
       "    <tr>\n",
       "      <th>...</th>\n",
       "      <td>...</td>\n",
       "      <td>...</td>\n",
       "    </tr>\n",
       "    <tr>\n",
       "      <th>64888</th>\n",
       "      <td>A broken down train caused transport &amp;apos;cha...</td>\n",
       "      <td>Manor House fire alert: Passengers left 'choki...</td>\n",
       "    </tr>\n",
       "    <tr>\n",
       "      <th>64889</th>\n",
       "      <td>Associated Press Sen. Lisa Murkowski President...</td>\n",
       "      <td>Senate close to rejecting Trump impeachment tr...</td>\n",
       "    </tr>\n",
       "    <tr>\n",
       "      <th>64890</th>\n",
       "      <td>Swiss player Blerim Dzemaili leaves Bologna to...</td>\n",
       "      <td>Ex-Galatasaray midfielder Dzemaili moves to China</td>\n",
       "    </tr>\n",
       "    <tr>\n",
       "      <th>64891</th>\n",
       "      <td>News\\nThe mysterious new type of coronavirus h...</td>\n",
       "      <td>Coronavirus has now infected almost 10,000, in...</td>\n",
       "    </tr>\n",
       "    <tr>\n",
       "      <th>64892</th>\n",
       "      <td>LONDON (Reuters) - The coronavirus outbreak is...</td>\n",
       "      <td>Goldman Sachs says virus outbreak to hit U.S. ...</td>\n",
       "    </tr>\n",
       "  </tbody>\n",
       "</table>\n",
       "<p>62358 rows × 2 columns</p>\n",
       "</div>"
      ],
      "text/plain": [
       "                                                    text  \\\n",
       "0      FDA launches app for health care professionals...   \n",
       "1      Of all of Regina Yan ’s many traits, an open m...   \n",
       "2      The CURE ID app allows clinicians to share and...   \n",
       "3      The DSB is composed of representatives from tw...   \n",
       "4      The Centre for Health Protection (CHP) of the ...   \n",
       "...                                                  ...   \n",
       "64888  A broken down train caused transport &apos;cha...   \n",
       "64889  Associated Press Sen. Lisa Murkowski President...   \n",
       "64890  Swiss player Blerim Dzemaili leaves Bologna to...   \n",
       "64891  News\\nThe mysterious new type of coronavirus h...   \n",
       "64892  LONDON (Reuters) - The coronavirus outbreak is...   \n",
       "\n",
       "                                                 summary  \n",
       "0      FDA launches app for health care professionals...  \n",
       "1                             C-Suite Awards: Regina Yan  \n",
       "2      FDA Launches Infectious Disease Crowdsourcing ...  \n",
       "3                            Drug Safety Oversight Board  \n",
       "4                           Suspected MERS case reported  \n",
       "...                                                  ...  \n",
       "64888  Manor House fire alert: Passengers left 'choki...  \n",
       "64889  Senate close to rejecting Trump impeachment tr...  \n",
       "64890  Ex-Galatasaray midfielder Dzemaili moves to China  \n",
       "64891  Coronavirus has now infected almost 10,000, in...  \n",
       "64892  Goldman Sachs says virus outbreak to hit U.S. ...  \n",
       "\n",
       "[62358 rows x 2 columns]"
      ]
     },
     "execution_count": 17,
     "metadata": {},
     "output_type": "execute_result"
    }
   ],
   "source": [
    "newdf = temp_df[temp_df['summary'].str.strip().astype(bool)]\n",
    "df = newdf[newdf['text'].str.strip().astype(bool)]\n",
    "df"
   ]
  },
  {
   "cell_type": "code",
   "execution_count": 18,
   "id": "139f75d1",
   "metadata": {},
   "outputs": [],
   "source": [
    "# src: https://pytorch.org/tutorials/intermediate/seq2seq_translation_tutorial.html\n",
    "\n",
    "SOS_token = 0\n",
    "EOS_token = 1\n",
    "\n",
    "class Lang:\n",
    "    def __init__(self, name):\n",
    "        self.name = name\n",
    "        self.word2index = {}\n",
    "        self.word2count = {}\n",
    "        self.index2word = {0: \"SOS\", 1: \"EOS\"}\n",
    "        self.n_words = 2  # Count SOS and EOS\n",
    "\n",
    "    def addSentence(self, sentence):\n",
    "        for word in sentence.split(' '):\n",
    "            self.addWord(word)\n",
    "\n",
    "    def addWord(self, word):\n",
    "        if word not in self.word2index:\n",
    "            self.word2index[word] = self.n_words\n",
    "            self.word2count[word] = 1\n",
    "            self.index2word[self.n_words] = word\n",
    "            self.n_words += 1\n",
    "        else:\n",
    "            self.word2count[word] += 1"
   ]
  },
  {
   "cell_type": "code",
   "execution_count": 19,
   "id": "7f8f00b2",
   "metadata": {},
   "outputs": [],
   "source": [
    "def readData(text, summary):\n",
    "    print(\"Reading lines...\")\n",
    "\n",
    "    # Split every line into pairs and normalize\n",
    "    pairs = [[text[i],summary[i]] for i in range(len(text))]\n",
    "\n",
    "    input_lang = Lang(text)\n",
    "    output_lang = Lang(summary)\n",
    "\n",
    "    return input_lang, output_lang, pairs\n",
    "\n",
    "def prepareData(lang1, lang2):\n",
    "    input_lang, output_lang, pairs = readData(lang1, lang2)\n",
    "    print(\"Read %s sentence pairs\" % len(pairs))\n",
    "    print(\"Counting words...\")\n",
    "    for pair in pairs:\n",
    "        input_lang.addSentence(pair[0])\n",
    "        output_lang.addSentence(pair[1])\n",
    "    return input_lang, output_lang, pairs"
   ]
  },
  {
   "cell_type": "code",
   "execution_count": 20,
   "id": "e364b403",
   "metadata": {},
   "outputs": [
    {
     "name": "stdout",
     "output_type": "stream",
     "text": [
      "Reading lines...\n",
      "Read 94403 sentence pairs\n",
      "Counting words...\n"
     ]
    },
    {
     "data": {
      "text/plain": [
       "['dublin swine healthcare market  growth trends forecast  5 . 2 . 2 coccidiosis 5 . 2 . 3 respiratory diseases 5 . 2 . 4 swine dysentery 5 . 2 . 5 porcine parvovirus 5 . 2 . 6 others 5 . 3 geography 5 . 3 . 1 north america 5 . 3 . 2 europe 5 . 3 . 3 asiapacific 5 . 3 . 4 middle east  africa 5 . 3 . 5 south america 6 competitive landscape 6 . 1 company profiles 6 . 1 . 1 abaxis 6 . 1 . 2 bayer animal health 6 . 1 . 3 boehringer ingelheim 6 . 1 . 4 ceva animal health inc .  6 . 1 . 5 elanco 6 . 1 . 6 idvet 6 . 1 . 7 merck animal health 6 . 1 . 8 merial 6 . 1 . 9 vetoquinol s . a .  6 . 1 . 10 virbac 6 . 1 . 11 zoetis animal healthcare 7 market opportunities future trends information report visit httpswww . researchandmarkets . comrshhuje research markets also offers custom research services providing focused comprehensive tailored research .  contact researchandmarkets . com laura wood senior press manager pressresearchandmarkets . com e . s . t office hours call 19173000470 u . s . can toll free call 18005268630 gmt office hours call 35314168900',\n",
       " 'global swine healthcare market products diseases  geography  forecast 2024']"
      ]
     },
     "execution_count": 20,
     "metadata": {},
     "output_type": "execute_result"
    }
   ],
   "source": [
    "input, output, pairs = prepareData(X,Y)\n",
    "pairs[0]"
   ]
  },
  {
   "cell_type": "code",
   "execution_count": null,
   "id": "13c70305",
   "metadata": {},
   "outputs": [],
   "source": []
  }
 ],
 "metadata": {
  "kernelspec": {
   "display_name": "Python 3",
   "language": "python",
   "name": "python3"
  },
  "language_info": {
   "codemirror_mode": {
    "name": "ipython",
    "version": 3
   },
   "file_extension": ".py",
   "mimetype": "text/x-python",
   "name": "python",
   "nbconvert_exporter": "python",
   "pygments_lexer": "ipython3",
   "version": "3.8.5"
  }
 },
 "nbformat": 4,
 "nbformat_minor": 5
}
